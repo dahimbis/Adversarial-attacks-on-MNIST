{
  "nbformat": 4,
  "nbformat_minor": 0,
  "metadata": {
    "colab": {
      "provenance": []
    },
    "kernelspec": {
      "name": "python3",
      "display_name": "Python 3"
    },
    "language_info": {
      "name": "python"
    }
  },
  "cells": [
    {
      "cell_type": "code",
      "execution_count": 37,
      "metadata": {
        "id": "do5KuKhj7xli"
      },
      "outputs": [],
      "source": [
        "import torch\n",
        "import torch.nn.functional as f\n",
        "from torchvision import datasets, transforms\n",
        "import torch.nn\n",
        "import utils\n",
        "import matplotlib.pyplot as plt\n",
        "\n",
        "\n",
        "from model import get_model\n",
        "\n",
        "device = torch.device(\"cpu\")"
      ]
    },
    {
      "cell_type": "code",
      "source": [
        "import zipfile\n",
        "\n",
        "# Extract the zip file\n",
        "with zipfile.ZipFile('data.zip', 'r') as zip_ref:\n",
        "    zip_ref.extractall('/content/')\n",
        "\n",
        "print(\"File extracted successfully!\")"
      ],
      "metadata": {
        "colab": {
          "base_uri": "https://localhost:8080/"
        },
        "id": "7Fldyojj9BHg",
        "outputId": "63b13799-b2c3-4edc-d54e-b270cb44fbe4"
      },
      "execution_count": 8,
      "outputs": [
        {
          "output_type": "stream",
          "name": "stdout",
          "text": [
            "File extracted successfully!\n"
          ]
        }
      ]
    },
    {
      "cell_type": "code",
      "source": [
        "transform = transforms.Compose([\n",
        "    transforms.ToTensor(),])\n",
        "\n",
        "subset_size = 256\n",
        "print(f\"Evaluating on the first {subset_size} MNIST test samples\")\n",
        "\n",
        "test_dataset = datasets.MNIST(root=\"./data\", train=False, download=True, transform=transform)\n",
        "test_subset = torch.utils.data.Subset(test_dataset, range(subset_size))\n",
        "test_loader = torch.utils.data.DataLoader(test_subset, batch_size=subset_size, shuffle=False)\n",
        "\n",
        "x_test, y_test = next(iter(test_loader))\n",
        "x_test = x_test.view(x_test.size(0), -1).to(device)\n",
        "y_test = y_test.to(device)\n",
        "\n",
        "print(f\"Loaded {x_test.shape[0]} samples\")\n",
        "print(f\"Flattened dimension: {x_test.shape[1]}\")\n",
        "print(f\"Data range: {x_test.min():.3f} to {x_test.max():.3f}\")"
      ],
      "metadata": {
        "colab": {
          "base_uri": "https://localhost:8080/"
        },
        "id": "HSpfr_dE8PF3",
        "outputId": "bbf28968-9a77-487a-ec63-d22912a2fe44"
      },
      "execution_count": 9,
      "outputs": [
        {
          "output_type": "stream",
          "name": "stdout",
          "text": [
            "Evaluating on the first 256 MNIST test samples\n",
            "Loaded 256 samples\n",
            "Flattened dimension: 784\n",
            "Data range: 0.000 to 1.000\n"
          ]
        }
      ]
    },
    {
      "cell_type": "code",
      "source": [
        "model = get_model(pretrained_path=\"data/model.pth\", device=device)\n",
        "clean_accuracy = utils.accuracy(model, x_test, y_test)\n"
      ],
      "metadata": {
        "id": "axmRCuZp8y0Y"
      },
      "execution_count": 10,
      "outputs": []
    },
    {
      "cell_type": "code",
      "source": [
        "attack_results = {}\n",
        "\n",
        "def clamp_unit(x):\n",
        "    return torch.clamp(x, 0.0, 1.0)\n",
        "\n",
        "def project_linf(delta, eps):\n",
        "    return torch.clamp(delta, -eps, eps)\n",
        "\n",
        "def compute_attack_metrics(x_adv, x_clean=x_test, y_clean=y_test):\n",
        "    with torch.no_grad():\n",
        "        adv_logits = model(x_adv)\n",
        "        adv_preds = adv_logits.argmax(dim=1)\n",
        "    adv_acc = (adv_preds == y_clean).float().mean().item()\n",
        "    delta = x_adv - x_clean\n",
        "    linf = delta.abs().max(dim=1)[0].mean().item()\n",
        "    l2 = torch.norm(delta, p=2, dim=1).mean().item()\n",
        "    return adv_acc, linf, l2\n",
        "\n",
        "def log_attack(name, x_adv, notes=None):\n",
        "    adv_acc, linf, l2 = compute_attack_metrics(x_adv)\n",
        "    attack_results[name] = {\n",
        "        \"clean_acc\": clean_accuracy,\n",
        "        \"adv_acc\": adv_acc,\n",
        "        \"avg_linf\": linf,\n",
        "        \"avg_l2\": l2,\n",
        "        \"notes\": notes or \"\"\n",
        "    }\n",
        "    print(f\"{name} -> adv accuracy: {adv_acc:.4f} | mean L_inf: {linf:.4f} | mean L2: {l2:.4f}\")\n",
        "\n",
        "def visualize_examples(name, x_adv, num_examples=5):\n",
        "    num_examples = min(num_examples, x_adv.size(0))\n",
        "    clean_imgs = x_test[:num_examples].detach().cpu().reshape(-1, 28, 28)\n",
        "    adv_imgs = x_adv[:num_examples].detach().cpu().reshape(-1, 28, 28)\n",
        "    diff = adv_imgs - clean_imgs\n",
        "    vmax = diff.abs().max().item() or 1.0\n",
        "    fig, axes = plt.subplots(3, num_examples, figsize=(num_examples * 2.2, 6))\n",
        "    for idx in range(num_examples):\n",
        "        axes[0, idx].imshow(clean_imgs[idx], cmap=\"gray\")\n",
        "        axes[0, idx].set_title(f\"Clean {idx}\")\n",
        "        axes[0, idx].axis(\"off\")\n",
        "\n",
        "        axes[1, idx].imshow(adv_imgs[idx], cmap=\"gray\")\n",
        "        axes[1, idx].set_title(\"Adv\")\n",
        "        axes[1, idx].axis(\"off\")\n",
        "\n",
        "        axes[2, idx].imshow(diff[idx], cmap=\"seismic\", vmin=-vmax, vmax=vmax)\n",
        "        axes[2, idx].set_title(\"Perturb\")\n",
        "        axes[2, idx].axis(\"off\")\n",
        "    plt.suptitle(name)\n",
        "    plt.tight_layout()\n",
        "    plt.show()"
      ],
      "metadata": {
        "id": "TROjxnJl-oP1"
      },
      "execution_count": 12,
      "outputs": []
    },
    {
      "cell_type": "markdown",
      "source": [
        "#IMPLEMENTING FAST GRADIENT SIGN METHOD - FGSM"
      ],
      "metadata": {
        "id": "LJ-SExXE9D9J"
      }
    },
    {
      "cell_type": "code",
      "source": [
        "epsilon = 0.03\n",
        "def fgsm_attack(model, x, y, eps):\n",
        "  x_adv = x.clone().detach().to(device).requires_grad_(True)\n",
        "  y = y.to(device)\n",
        "  logits = model(x_adv)\n",
        "  loss = f.cross_entropy(logits, y)\n",
        "  loss.backward()\n",
        "  model.zero_grad()\n",
        "  grad_sign = x_adv.grad.data.sign()\n",
        "  x_adv = x_adv + eps * grad_sign\n",
        "  x_adv = torch.clamp(x_adv, 0.0, 1.0 )\n",
        "\n",
        "  return x_adv.detach()"
      ],
      "metadata": {
        "id": "nc-OoBB79N8I"
      },
      "execution_count": 33,
      "outputs": []
    },
    {
      "cell_type": "code",
      "source": [
        "x_adv_fgsm_attack = fgsm_attack(model, x_test, y_test, epsilon)\n",
        "visualize_examples(epsilon, x_adv_fgsm_attack)\n"
      ],
      "metadata": {
        "colab": {
          "base_uri": "https://localhost:8080/",
          "height": 545
        },
        "id": "URf_ejpA-UUk",
        "outputId": "486c2471-5589-4d85-897a-cfedea4b673b"
      },
      "execution_count": 38,
      "outputs": [
        {
          "output_type": "display_data",
          "data": {
            "text/plain": [
              "<Figure size 1100x600 with 15 Axes>"
            ],
            "image/png": "[encoded data removed]"
          },
          "metadata": {}
        }
      ]
    }
  ]
}